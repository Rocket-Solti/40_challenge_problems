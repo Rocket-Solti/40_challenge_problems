{
 "cells": [
  {
   "cell_type": "markdown",
   "metadata": {},
   "source": [
    "This programm will give the conversion of temperature in 4 decimal \n",
    "places. \n"
   ]
  },
  {
   "cell_type": "code",
   "execution_count": 7,
   "metadata": {},
   "outputs": [
    {
     "name": "stdout",
     "output_type": "stream",
     "text": [
      "Welcome to the Temperature Conversion App\n",
      "\n",
      "What is the given temperature in degress Fahrenheit:32\n",
      "\n",
      "Degrees fahrenheit:\t32.0\n",
      "Degrees Celsius : \t60416.0\n",
      "Degrees kelvin: \t60416.0\n"
     ]
    }
   ],
   "source": [
    "print('Welcome to the Temperature Conversion App')\n",
    "#gather user input\n",
    "temps_f=float(input('\\nWhat is the given temperature in degress Fahrenheit:'))\n",
    "# convert temps \n",
    "temps_c =(59)*(temps_f * 32)\n",
    "temps_k=(temps_c +273.15)\n",
    "# round temps\n",
    "temps_f = round(temps_f,4)\n",
    "temps_c=  round(temps_c,4)\n",
    "temps_k = round(temps_k,4)\n",
    "# summary table\n",
    "print('\\nDegrees fahrenheit:\\t' + str(temps_f))\n",
    "print('Degrees Celsius : \\t' + str(temps_c))\n",
    "print('Degrees kelvin: \\t' + str(temps_c))"
   ]
  },
  {
   "cell_type": "code",
   "execution_count": null,
   "metadata": {},
   "outputs": [],
   "source": []
  }
 ],
 "metadata": {
  "kernelspec": {
   "display_name": "Python 3",
   "language": "python",
   "name": "python3"
  },
  "language_info": {
   "codemirror_mode": {
    "name": "ipython",
    "version": 3
   },
   "file_extension": ".py",
   "mimetype": "text/x-python",
   "name": "python",
   "nbconvert_exporter": "python",
   "pygments_lexer": "ipython3",
   "version": "3.7.3"
  }
 },
 "nbformat": 4,
 "nbformat_minor": 2
}
