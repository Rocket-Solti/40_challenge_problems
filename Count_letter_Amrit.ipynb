{
 "cells": [
  {
   "cell_type": "code",
   "execution_count": 8,
   "metadata": {},
   "outputs": [
    {
     "name": "stdout",
     "output_type": "stream",
     "text": [
      "\n",
      "What is your name :Amrit\n",
      "Hello, Amrit!\n",
      "I will count the number of times that a specific letters occurs in a message\n",
      "\n",
      " Please enter a message :iiiieieieieieieieieieiei\n",
      "Which letter would you like to count the occurance ofi\n",
      "\n",
      "Amrit,your message has 14i's in it.'\n"
     ]
    }
   ],
   "source": [
    "#this program will count the letters in your message \n",
    "name = input('\\nWhat is your name :'). title(). strip()\n",
    "print('Hello, ' + name + '!')\n",
    "print('I will count the number of times that a specific letters occurs in a message')\n",
    "message = input ('\\n Please enter a message :')\n",
    "letter=input('Which letter would you like to count the occurance of')\n",
    "message=message.lower()\n",
    "letter=letter.lower()\n",
    "letter_count=message.count(letter)\n",
    "print('\\n' + name + ',your message has ' + str(letter_count)+ '' + letter  +   \"'s in it.'\")"
   ]
  },
  {
   "cell_type": "code",
   "execution_count": null,
   "metadata": {},
   "outputs": [],
   "source": []
  }
 ],
 "metadata": {
  "kernelspec": {
   "display_name": "Python 3",
   "language": "python",
   "name": "python3"
  },
  "language_info": {
   "codemirror_mode": {
    "name": "ipython",
    "version": 3
   },
   "file_extension": ".py",
   "mimetype": "text/x-python",
   "name": "python",
   "nbconvert_exporter": "python",
   "pygments_lexer": "ipython3",
   "version": "3.7.3"
  }
 },
 "nbformat": 4,
 "nbformat_minor": 2
}
