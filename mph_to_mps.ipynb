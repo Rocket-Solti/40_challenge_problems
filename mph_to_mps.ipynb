{
 "cells": [
  {
   "cell_type": "code",
   "execution_count": 1,
   "metadata": {},
   "outputs": [
    {
     "name": "stdout",
     "output_type": "stream",
     "text": [
      "Welcome to MPH to MPS conversion App\n",
      "What is your speed in miles per hour45\n",
      "Your Speed in meter per second is 20.13\n"
     ]
    }
   ],
   "source": [
    "# Miles per hour to meter per second conversion\n",
    "print('Welcome to MPH to MPS conversion App')\n",
    "#input user\n",
    "mph=float(input('What is your speed in miles per hour'))\n",
    "#convertion formula\n",
    "mps=mph*0.4474\n",
    "mps=round(mps, 2) #2 decimal\n",
    "print('Your Speed in meter per second is ' + str (mps))\n"
   ]
  },
  {
   "cell_type": "code",
   "execution_count": null,
   "metadata": {},
   "outputs": [],
   "source": []
  }
 ],
 "metadata": {
  "kernelspec": {
   "display_name": "Python 3",
   "language": "python",
   "name": "python3"
  },
  "language_info": {
   "codemirror_mode": {
    "name": "ipython",
    "version": 3
   },
   "file_extension": ".py",
   "mimetype": "text/x-python",
   "name": "python",
   "nbconvert_exporter": "python",
   "pygments_lexer": "ipython3",
   "version": "3.7.3"
  }
 },
 "nbformat": 4,
 "nbformat_minor": 2
}
