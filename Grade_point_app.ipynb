{
 "cells": [
  {
   "cell_type": "code",
   "execution_count": null,
   "metadata": {},
   "outputs": [],
   "source": [
    "print('Welcome to the Grade Point Average Calculator App')\n",
    "\n",
    "name=input('What is your name :').title().strip()\n",
    "grade_num=int(input('How many grades would you like to enter :'))\n",
    "#get user's grades\n",
    "              \n",
    "grades =[]\n",
    "for i in range(grade_num):\n",
    "    grades.append(int(input('Enter grade :')))\n",
    "#sort the grades \n",
    "    grades.sort(reverse=True)\n",
    "print('\\nGrades Highest to Lowest: ')\n",
    "for grade in grades:\n",
    "    print('\\t'+str(grade))\n",
    "#Calculate the average\n",
    "average=sum(grades)/len(grades)\n",
    "average=round(average,2)\n",
    "#print grade summary\n",
    "print('\\n'+ name + \" 's Grade Summary: \")\n",
    "print('\\tTotal Number of Grades :' + str(len(grades)))\n",
    "print('\\nHighest Grade : ' +str(max(grades)))\n",
    "print('\\nLowest Grade : ' +str(min(grades))) \n",
    "print('\\nAverage Grade : ' +str(average))\n",
    "\n",
    "#Get the user desired average and calculates , for next assaignment\n",
    "desiered_avg=float(input('\\nWhat is your desired Output :'))\n",
    "grade_req=(desiered_avg*(len(grades)+1)) - sum(grades)\n",
    "grade_req=round(grade_req,2)\n",
    "#print all summary\n",
    "print('\\nGood Luck ' + name + '!')\n",
    "print('You will need to get a ' + str(grade_req) + ' on your next assaignment to get a '  + str(desiered_avg) + ' average ')\n",
    "#Thanks\n",
    "print('Thank you for using the Grade Sorter App')\n"
   ]
  },
  {
   "cell_type": "code",
   "execution_count": null,
   "metadata": {},
   "outputs": [],
   "source": []
  }
 ],
 "metadata": {
  "kernelspec": {
   "display_name": "Python 3",
   "language": "python",
   "name": "python3"
  },
  "language_info": {
   "codemirror_mode": {
    "name": "ipython",
    "version": 3
   },
   "file_extension": ".py",
   "mimetype": "text/x-python",
   "name": "python",
   "nbconvert_exporter": "python",
   "pygments_lexer": "ipython3",
   "version": "3.7.3"
  }
 },
 "nbformat": 4,
 "nbformat_minor": 2
}
