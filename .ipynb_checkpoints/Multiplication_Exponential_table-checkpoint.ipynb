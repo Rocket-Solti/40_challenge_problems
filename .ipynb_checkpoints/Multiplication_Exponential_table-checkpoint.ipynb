{
 "cells": [
  {
   "cell_type": "markdown",
   "metadata": {},
   "source": [
    "Multiplication or Exponnent Table for any decimal valued numbers. \n",
    "this is  a lenthy method to do this without function , just to learn..\n"
   ]
  },
  {
   "cell_type": "code",
   "execution_count": 11,
   "metadata": {},
   "outputs": [
    {
     "name": "stdout",
     "output_type": "stream",
     "text": [
      "Welcome to Multiplication/ Exponential Table Program\n",
      "\n",
      "Hello, what is your name :Amrit\n",
      "What number would you like to work with:2\n",
      "\n",
      "Multiplication Table for 2.0\n",
      "\n",
      "\t 1.0 * 2.0 = 2.0\n",
      "\n",
      "\t 2.0 * 2.0 = 4.0\n",
      "\n",
      "\t 3.0 * 2.0 = 6.0\n",
      "\n",
      "\t 4.0 * 2.0 = 8.0\n",
      "\n",
      "\t 5.0 * 2.0 = 10.0\n",
      "\n",
      "\t 6.0 * 2.0 = 12.0\n",
      "\n",
      "\t 7.0 * 2.0 = 14.0\n",
      "\n",
      "\t 8.0 * 2.0 = 16.0\n",
      "\n",
      "\t 9.0 * 2.0 = 18.0\n",
      "\n",
      "\t 10.0 * 2.0 = 20.0\n",
      "\n",
      "Exponential Table for 2.0\n",
      "\n",
      "\t2.0 ^ 1.0  = 1.0\n",
      "\n",
      "\t2.0 ^ 2.0  = 4.0\n",
      "\n",
      "\t2.0 ^ 3.0  = 9.0\n",
      "\n",
      "\t2.0 ^ 4.0  = 16.0\n",
      "\n",
      "\t2.0 ^ 5.0  = 25.0\n",
      "\n",
      "\t2.0 ^ 6.0  = 36.0\n",
      "\n",
      "\t2.0 ^ 7.0  = 49.0\n",
      "\n",
      "\t2.0 ^ 8.0  = 64.0\n",
      "\n",
      "\t2.0 ^ 9.0  = 81.0\n",
      "\n",
      "\t2.0 ^ 10.0  = 100.0\n"
     ]
    }
   ],
   "source": [
    "print('Welcome to Multiplication/ Exponential Table Program')\n",
    "\n",
    "name=input('\\nHello, what is your name :').title().strip()\n",
    "num= float (input('What number would you like to work with:'))\n",
    "message=name+', Math is Awesome'\n",
    "\n",
    "#multiplication table\n",
    "print('\\nMultiplication Table for ' + str(num))\n",
    "print('\\n\\t 1.0 * ' + str(num) + ' = ' + str(round(1*num,4)))\n",
    "print('\\n\\t 2.0 * ' + str(num) + ' = ' + str(round(2*num,4)))\n",
    "print('\\n\\t 3.0 * ' + str(num) + ' = ' + str(round(3*num,4)))\n",
    "print('\\n\\t 4.0 * ' + str(num) + ' = ' + str(round(4*num,4)))\n",
    "print('\\n\\t 5.0 * ' + str(num) + ' = ' + str(round(5*num,4)))\n",
    "print('\\n\\t 6.0 * ' + str(num) + ' = ' + str(round(6*num,4)))\n",
    "print('\\n\\t 7.0 * ' + str(num) + ' = ' + str(round(7*num,4)))\n",
    "print('\\n\\t 8.0 * ' + str(num) + ' = ' + str(round(8*num,4)))\n",
    "print('\\n\\t 9.0 * ' + str(num) + ' = ' + str(round(9*num,4)))\n",
    "print('\\n\\t 10.0 * ' + str(num) + ' = ' + str(round(10*num,4)))\n",
    "#Exponential Table\n",
    "print('\\nExponential Table for ' + str(num))\n",
    "print('\\n\\t' + str(num) +' ^ 1.0  = ' + str(round(1**num,4)))\n",
    "print('\\n\\t' + str(num) +' ^ 2.0  = ' + str(round(2**num,4)))\n",
    "print('\\n\\t' + str(num) +' ^ 3.0  = ' + str(round(3**num,4)))\n",
    "print('\\n\\t' + str(num) +' ^ 4.0  = ' + str(round(4**num,4)))\n",
    "print('\\n\\t' + str(num) +' ^ 5.0  = ' + str(round(5**num,4)))\n",
    "print('\\n\\t' + str(num) +' ^ 6.0  = ' + str(round(6**num,4)))\n",
    "print('\\n\\t' + str(num) +' ^ 7.0  = ' + str(round(7**num,4)))\n",
    "print('\\n\\t' + str(num) +' ^ 8.0  = ' + str(round(8**num,4)))\n",
    "print('\\n\\t' + str(num) +' ^ 9.0  = ' + str(round(9**num,4)))\n",
    "print('\\n\\t' + str(num) +' ^ 10.0  = ' + str(round(10**num,4)))\n",
    "\n"
   ]
  },
  {
   "cell_type": "code",
   "execution_count": null,
   "metadata": {},
   "outputs": [],
   "source": []
  }
 ],
 "metadata": {
  "kernelspec": {
   "display_name": "Python 3",
   "language": "python",
   "name": "python3"
  },
  "language_info": {
   "codemirror_mode": {
    "name": "ipython",
    "version": 3
   },
   "file_extension": ".py",
   "mimetype": "text/x-python",
   "name": "python",
   "nbconvert_exporter": "python",
   "pygments_lexer": "ipython3",
   "version": "3.7.3"
  }
 },
 "nbformat": 4,
 "nbformat_minor": 2
}
