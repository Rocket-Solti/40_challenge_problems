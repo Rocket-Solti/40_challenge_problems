{
 "cells": [
  {
   "cell_type": "code",
   "execution_count": 5,
   "metadata": {},
   "outputs": [
    {
     "name": "stdout",
     "output_type": "stream",
     "text": [
      "Please Enter your Name?:Amrit\n",
      "Hello, Amrit\n",
      "Please, enter your favourite number45\n",
      "45\n"
     ]
    }
   ],
   "source": [
    "#This is my trial python for input fuction\n",
    "first_name =input('Please Enter your Name?:')\n",
    "print('Hello, '+ first_name.title())\n",
    "number = input('Please, enter your favourite number')\n",
    "print(number)"
   ]
  },
  {
   "cell_type": "code",
   "execution_count": 11,
   "metadata": {},
   "outputs": [
    {
     "name": "stdout",
     "output_type": "stream",
     "text": [
      "Give me any number , I will multiply them for you :\n",
      "Your first number :45\n",
      "Second Number:45\n",
      "The Product of your numbers given is  2025\n"
     ]
    }
   ],
   "source": [
    "import math\n",
    "print('Give me any number , I will multiply them for you :')\n",
    "num_1=int(input('Your first number :'))\n",
    "num_2=int(input('Second Number:'))\n",
    "product= num_1 * num_2\n",
    "print('The Product of your numbers given is ',product)"
   ]
  },
  {
   "cell_type": "code",
   "execution_count": null,
   "metadata": {},
   "outputs": [],
   "source": []
  }
 ],
 "metadata": {
  "kernelspec": {
   "display_name": "Python 3",
   "language": "python",
   "name": "python3"
  },
  "language_info": {
   "codemirror_mode": {
    "name": "ipython",
    "version": 3
   },
   "file_extension": ".py",
   "mimetype": "text/x-python",
   "name": "python",
   "nbconvert_exporter": "python",
   "pygments_lexer": "ipython3",
   "version": "3.7.3"
  }
 },
 "nbformat": 4,
 "nbformat_minor": 2
}
