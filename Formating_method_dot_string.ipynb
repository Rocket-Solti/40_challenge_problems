{
 "cells": [
  {
   "cell_type": "code",
   "execution_count": 13,
   "metadata": {},
   "outputs": [
    {
     "name": "stdout",
     "output_type": "stream",
     "text": [
      "Shusma is 28 and she has 2800 Euros\n"
     ]
    }
   ],
   "source": [
    "#String formatting Methos\n",
    "#print using string concatentation\n",
    "\n",
    "name='Shusma'\n",
    "age=28\n",
    "money=2800\n",
    "print(name + ' is ' + str(age) + ' and she has ' + str(money) + ' Euros')"
   ]
  },
  {
   "cell_type": "code",
   "execution_count": 14,
   "metadata": {},
   "outputs": [
    {
     "name": "stdout",
     "output_type": "stream",
     "text": [
      "Shusma is 28 and has 2800 euros\n"
     ]
    }
   ],
   "source": [
    "#dot method\n",
    "print('{0} is {1} and has {2} euros'.format(name,age,money))"
   ]
  },
  {
   "cell_type": "code",
   "execution_count": 15,
   "metadata": {},
   "outputs": [
    {
     "name": "stdout",
     "output_type": "stream",
     "text": [
      "Shusma is 28 and has 2800 euros\n"
     ]
    }
   ],
   "source": [
    "#f-strings\n",
    "print(f'{name} is {age} and has {money} euros') "
   ]
  },
  {
   "cell_type": "code",
   "execution_count": null,
   "metadata": {},
   "outputs": [],
   "source": []
  }
 ],
 "metadata": {
  "kernelspec": {
   "display_name": "Python 3",
   "language": "python",
   "name": "python3"
  },
  "language_info": {
   "codemirror_mode": {
    "name": "ipython",
    "version": 3
   },
   "file_extension": ".py",
   "mimetype": "text/x-python",
   "name": "python",
   "nbconvert_exporter": "python",
   "pygments_lexer": "ipython3",
   "version": "3.7.3"
  }
 },
 "nbformat": 4,
 "nbformat_minor": 2
}
